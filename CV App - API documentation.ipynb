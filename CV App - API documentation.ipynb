{
 "cells": [
  {
   "cell_type": "markdown",
   "metadata": {},
   "source": [
    "# CV App \n",
    "\n",
    "CV app is an AI tool for curriculum screening and people recruiting. \n",
    "\n",
    "  - **Purpose:** get skills of my candidates from CV screening (*/metadata*) or find best candidate for my job position (*/candidate*).\n",
    "  - **Input & Output:** it is implemented as a REST web-service.\n",
    "  - **Info:** this service uses Watson IBM Natural Language Understanding API."
   ]
  },
  {
   "cell_type": "markdown",
   "metadata": {},
   "source": [
    "Please read the API documentation below to get informations about each endpoint.\n"
   ]
  },
  {
   "cell_type": "markdown",
   "metadata": {},
   "source": [
    "# API documentation"
   ]
  },
  {
   "cell_type": "markdown",
   "metadata": {},
   "source": [
    "## [POST]  /candidate \n",
    "\n",
    "\n",
    "\n",
    "**Purpose:** Find best candidate for my job position.\n",
    "\n",
    "\n",
    "  "
   ]
  },
  {
   "cell_type": "code",
   "execution_count": 4,
   "metadata": {},
   "outputs": [],
   "source": [
    "import requests\n",
    "import json\n",
    "\n",
    "#HTTP data\n",
    "my_headers={'Content-type' : 'application/json'}\n",
    "my_url='http://127.0.0.1:80/candidate'\n"
   ]
  },
  {
   "cell_type": "markdown",
   "metadata": {},
   "source": [
    "**Input:** Fields required to fulfill my request:\n",
    "  -  Folder path of my CV (directory)             --> Always required!\n",
    "  - Skills of my job position (skills) --> Insert skills or label. Or both.\n",
    "  - A label for this cluster of skills (label)   --> Insert skills or label. Or both.\n",
    "      "
   ]
  },
  {
   "cell_type": "markdown",
   "metadata": {},
   "source": [
    "### Request  1 (skills & label)"
   ]
  },
  {
   "cell_type": "code",
   "execution_count": null,
   "metadata": {},
   "outputs": [],
   "source": [
    "my_data={ \"skills\" : [ \"science;computer science;artificial intelligence;;\", \"science;computer science;cryptography;;\", \"science;computer science;distributed systems;;\", \"science;computer science;information science;;\", \"technology and computing;operating systems;linux;;\", \"technology and computing;programming languages;java;;\", \"technology and computing;;;;\", \"technology and computing;technological innovation;;;\", \"technology and computing;software;databases;;\", \"technology and computing;operating systems;linux;;\", \"technology and computing;operating systems;unix;;\", \"technology and computing;programming languages;;;\" ], \"directory\": \"./pdf/\", \"label\": \"AI\"  }\n"
   ]
  },
  {
   "cell_type": "markdown",
   "metadata": {},
   "source": [
    "### Request 2 (no skills, use a label set )"
   ]
  },
  {
   "cell_type": "code",
   "execution_count": 5,
   "metadata": {},
   "outputs": [],
   "source": [
    "my_data={ \"skills\" : \"\", \"directory\": \"./pdf/\", \"label\": \"AI\"  }"
   ]
  },
  {
   "cell_type": "markdown",
   "metadata": {},
   "source": [
    "### Request  3 (no label)\n"
   ]
  },
  {
   "cell_type": "code",
   "execution_count": null,
   "metadata": {},
   "outputs": [],
   "source": [
    "my_data={ \"skills\" : [ \"science;computer science;artificial intelligence;;\", \"science;computer science;cryptography;;\", \"science;computer science;distributed systems;;\", \"science;computer science;information science;;\", \"technology and computing;operating systems;linux;;\", \"technology and computing;programming languages;java;;\", \"technology and computing;;;;\", \"technology and computing;technological innovation;;;\", \"technology and computing;software;databases;;\", \"technology and computing;operating systems;linux;;\", \"technology and computing;operating systems;unix;;\", \"technology and computing;programming languages;;;\" ], \"directory\": \"./pdf/\", \"label\": \"\"  }"
   ]
  },
  {
   "cell_type": "markdown",
   "metadata": {},
   "source": [
    " \n",
    "**Output:** The output contains the following data:\n",
    "   - Job offer label (position)\n",
    "   - Candidate info (best_candidates)\n",
    "     - Candidate Name (name)\n",
    "     - Candidate Email (contact)\n",
    "     - CV info (cv)\n",
    "       - CV name (filename)\n",
    "       - CV language (language)\n",
    "       - CV skills (skills)"
   ]
  },
  {
   "cell_type": "markdown",
   "metadata": {},
   "source": [
    "### Try it !"
   ]
  },
  {
   "cell_type": "code",
   "execution_count": 6,
   "metadata": {
    "scrolled": true
   },
   "outputs": [
    {
     "data": {
      "text/html": [
       "<head><link rel=\"stylesheet\" type=\"text/css\" href=\"json_formatter.css\"></head><body><div id=\"f7900bb4-7874-46d7-b12e-f10484fcaf55\" style=\"background-color: black;\"></div></body>"
      ]
     },
     "metadata": {},
     "output_type": "display_data"
    },
    {
     "data": {
      "application/javascript": [
       "\n",
       "        require([\"https://rawgit.com/caldwell/renderjson/master/renderjson.js\"], function() {\n",
       "          document.getElementById('f7900bb4-7874-46d7-b12e-f10484fcaf55').appendChild(renderjson({\"best_candidates\": [{\"contact\": \"martina.manfrin87@gmail.com\", \"cv\": {\"skills\": [\"/technology and computing/software/databases\", \"/technology and computing\", \"/science/computer science/artificial intelligence\"], \"language\": \"it\", \"filename\": \"./pdf/MartinaManfrinProfile.pdf\"}, \"name\": \"Martina Manfrin\"}], \"position\": \"AI\"}))\n",
       "        });\n",
       "        "
      ]
     },
     "metadata": {},
     "output_type": "display_data"
    }
   ],
   "source": [
    "r=requests.post(my_url,data=json.dumps(my_data), headers=my_headers)\n",
    "RenderJSON(r.json()) "
   ]
  },
  {
   "cell_type": "markdown",
   "metadata": {},
   "source": [
    "## [POST]  /metadata \n",
    "\n",
    "\n",
    "**Purpose:** get skills of my candidates from CV screening.\n",
    "  \n",
    "  "
   ]
  },
  {
   "cell_type": "code",
   "execution_count": 1,
   "metadata": {},
   "outputs": [],
   "source": [
    "import requests\n",
    "import json\n",
    "\n",
    "#HTTP data\n",
    "my_headers={'Content-type' : 'application/json'}\n",
    "my_url='http://127.0.0.1:80/metadata'"
   ]
  },
  {
   "cell_type": "markdown",
   "metadata": {},
   "source": [
    "\n",
    "\n",
    "**Input:** folder path of my CV (directory) --> Required!"
   ]
  },
  {
   "cell_type": "markdown",
   "metadata": {},
   "source": [
    "### Request"
   ]
  },
  {
   "cell_type": "code",
   "execution_count": 2,
   "metadata": {},
   "outputs": [],
   "source": [
    "my_data={\"directory\": \"./pdf/\"}"
   ]
  },
  {
   "cell_type": "markdown",
   "metadata": {},
   "source": [
    "  \n",
    "\n",
    "**Output:** metadata of all CVs in my path:\n",
    "- Candidate info (candidates)\n",
    "   - Candidate Name (name)\n",
    "   - Candidate Email (contact)\n",
    "   - CV info (cv)\n",
    "        - CV name (filename)\n",
    "        - CV language (language)\n",
    "        -  CV skills (skills)\n",
    "\n"
   ]
  },
  {
   "cell_type": "markdown",
   "metadata": {},
   "source": [
    "### Try it !"
   ]
  },
  {
   "cell_type": "code",
   "execution_count": 3,
   "metadata": {},
   "outputs": [
    {
     "data": {
      "text/html": [
       "<head><link rel=\"stylesheet\" type=\"text/css\" href=\"json_formatter.css\"></head><body><div id=\"137201eb-13f5-423e-be8b-c635e2233e81\" style=\"background-color: black;\"></div></body>"
      ]
     },
     "metadata": {},
     "output_type": "display_data"
    },
    {
     "data": {
      "application/javascript": [
       "\n",
       "        require([\"https://rawgit.com/caldwell/renderjson/master/renderjson.js\"], function() {\n",
       "          document.getElementById('137201eb-13f5-423e-be8b-c635e2233e81').appendChild(renderjson({\"candidates\": [{\"contact\": \"archbonni@gmail.com\", \"cv\": {\"skills\": [\"/art and entertainment/visual art and design/architecture\", \"/technology and computing/software/graphics software/animation\", \"/technology and computing/software\"], \"language\": \"it\", \"filename\": \"./pdf/IrriveRender Arch. Bonn\\u00ec Learning 3DProfile.pdf\"}, \"name\": \"IrriveRender Arch. Bonn\\u00ec Learning 3D\"}, {\"contact\": \"martina.manfrin87@gmail.com\", \"cv\": {\"skills\": [\"/technology and computing/software/databases\", \"/technology and computing\", \"/science/computer science/artificial intelligence\"], \"language\": \"it\", \"filename\": \"./pdf/MartinaManfrinProfile.pdf\"}, \"name\": \"Martina Manfrin\"}, {\"contact\": \"andreagiordanodev@yahoo.it\", \"cv\": {\"skills\": [\"/technology and computing/software\", \"/technology and computing/consumer electronics/telephones/mobile phones/smart phones\", \"/business and industrial/business operations/management/business process\"], \"language\": \"it\", \"filename\": \"./pdf/AndreaGiordanoProfile.pdf\"}, \"name\": \"Andrea Giordano\"}]}))\n",
       "        });\n",
       "        "
      ]
     },
     "metadata": {},
     "output_type": "display_data"
    }
   ],
   "source": [
    "r=requests.post(my_url,data=json.dumps(my_data), headers=my_headers)\n",
    "RenderJSON(r.json())  "
   ]
  },
  {
   "cell_type": "markdown",
   "metadata": {},
   "source": [
    "## Contacts & Customer support"
   ]
  },
  {
   "cell_type": "markdown",
   "metadata": {},
   "source": [
    "This a Martina Manfrin software, released under copyright.\n",
    "\n",
    "\n",
    "If you are interested in purchasing a copy or you need help for troubleshooting, contact me at: [martina.manfrin87@gmail.com](martina.manfrin87@gmail.com)\n"
   ]
  }
 ],
 "metadata": {
  "kernelspec": {
   "display_name": "Python 2",
   "language": "python",
   "name": "python2"
  },
  "language_info": {
   "codemirror_mode": {
    "name": "ipython",
    "version": 2
   },
   "file_extension": ".py",
   "mimetype": "text/x-python",
   "name": "python",
   "nbconvert_exporter": "python",
   "pygments_lexer": "ipython2",
   "version": "2.7.13"
  }
 },
 "nbformat": 4,
 "nbformat_minor": 2
}
